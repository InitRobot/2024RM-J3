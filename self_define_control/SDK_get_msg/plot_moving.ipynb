{
 "cells": [
  {
   "cell_type": "code",
   "execution_count": 2,
   "metadata": {},
   "source": [
    "import matplotlib.pyplot as plt\n",
    "import numpy as np"
   ],
   "outputs": []
  },
  {
   "cell_type": "code",
   "execution_count": 30,
   "metadata": {},
   "source": [
    "#x_t = (0.25 * (t - 2) ** 2 - 1)*2.7\n",
    "#y_t = (-0.25 * (t) ** 2)*1.5\n",
    "\n",
    "time_l = []\n",
    "x_l = []\n",
    "y_l = []\n",
    "\n",
    "'''\n",
    "random_point = (a,b)\n",
    "top_point = (c,d)\n",
    "y  = ((b-d)/((a-c)**2)) * ((x-c)**2) + d\n",
    "'''\n",
    "\n",
    "def solve(x, a, b, c, d):\n",
    "    y  = ((b-d)/((a-c)**2)) * ((x-c)**2) + d\n",
    "    return y\n",
    "\n",
    "for t in np.arange(0.0, 3.3, 0.1):\n",
    "    time_l.append(t)\n",
    "    x_l.append((1.7/3.3**2) * (t - 3.3) ** 2 - 1.7)\n",
    "    y_l.append((-1.45/3.3**2) * t ** 2)\n",
    "    #t = 3.3 y_l = -1.45\n",
    "    #t = 0 y_l = 0\n",
    "\n",
    "for t in np.arange(3.3, 4, 0.1):\n",
    "    time_l.append(t)\n",
    "    x_l.append(-0.8/0.7**2 * (t - 3.3) ** 2 - 1.7)\n",
    "    #t = 4, x_l = -2.5 0.49 0.8\n",
    "    y_l.append((2-1.45)/0.7**2 * (t-4) ** 2 - 2)\n",
    "    #t = 3.3 y_l = -1.45 x_l = -1.7\n",
    "    #t = 0 y_l = 0\n",
    "\n",
    "for t in np.arange(4, 4.7, 0.1):\n",
    "    time_l.append(t)\n",
    "    x_l.append(solve(t, 4, -2.5, 4.7, -3))\n",
    "    y_l.append(solve(t, 4.7, -2.5, 4, -2))\n",
    "\n",
    "plt.plot(time_l,x_l,\"b\",label = \"x\")\n",
    "plt.plot(time_l,y_l,\"r\",label = \"y\")\n",
    "plt.title(\"x and y\")\n",
    "plt.xlabel(\"time\")\n",
    "plt.ylabel(\"m\")\n",
    "plt.legend()\n",
    "plt.grid()\n",
    "plt.show()"
   ],
   "outputs": []
  },
  {
   "cell_type": "code",
   "execution_count": 31,
   "metadata": {},
   "source": [
    "plt.plot(y_l,x_l,\"b\",label = \"place\")\n",
    "#plt.plot(time_l,y_l,\"r\",label = \"y\")\n",
    "plt.title(\"place\")\n",
    "plt.xlabel(\"y\")\n",
    "plt.ylabel(\"x\")\n",
    "plt.legend()\n",
    "plt.grid()\n",
    "plt.show()"
   ],
   "outputs": []
  },
  {
   "cell_type": "code",
   "execution_count": null,
   "metadata": {},
   "source": [],
   "outputs": []
  }
 ],
 "metadata": {
  "kernelspec": {
   "display_name": "base",
   "language": "python",
   "name": "python3"
  },
  "language_info": {
   "codemirror_mode": {
    "name": "ipython",
    "version": 3
   },
   "file_extension": ".py",
   "mimetype": "text/x-python",
   "name": "python",
   "nbconvert_exporter": "python",
   "pygments_lexer": "ipython3",
   "version": "3.10.9"
  }
 },
 "nbformat": 4,
 "nbformat_minor": 2
}
