{
 "cells": [
  {
   "cell_type": "code",
   "execution_count": 5,
   "metadata": {},
   "source": [
    "import SDK_\n",
    "import Message_Delivery\n",
    "import MSG_Solve\n",
    "import Chassis_Solve\n",
    "import Chassis_Move\n",
    "import matplotlib.pyplot as plt\n",
    "\n",
    "\n",
    "kp = 1.5\n",
    "target = 0.5\n",
    "error_list = []\n",
    "\n",
    "SDK_.connect_enter_SDK(printing=False)\n",
    "Message_Delivery.connect_UDP(printing=False)\n",
    "SDK_.IN_OUT(\"game_msg on;\",printing=False)\n",
    "SDK_.IN_OUT(\"chassis push position on pfreq 50;\",printing=False)\n",
    "SDK_.IN_OUT(\"robot mode free;\",printing=False)\n",
    "for i in range(1,200):\n",
    "    print(i)\n",
    "    msg = Message_Delivery.try_get(timeout = 1,printing=False)\n",
    "    chassis_position = []\n",
    "    chassis_position = MSG_Solve.solve_chassis_position(msg,printing=False)\n",
    "    print(chassis_position)\n",
    "    #chassis speed x 0.1 y 0.1 z 1;\n",
    "    if chassis_position != []:\n",
    "        error = target - chassis_position[0]\n",
    "        error_list.append(error)\n",
    "        x_speed = kp * error\n",
    "        print(\"--------------\",x_speed)\n",
    "        SDK_.IN_OUT(\"chassis speed x \" + str(x_speed) + \" y 0 z 0;\",printing=True)\n",
    "print(error_list)\n",
    "plt.plot(range(1,200),error_list)\n",
    "plt.show()"
   ],
   "outputs": []
  },
  {
   "cell_type": "code",
   "execution_count": null,
   "metadata": {},
   "source": [],
   "outputs": []
  }
 ],
 "metadata": {
  "kernelspec": {
   "display_name": "base",
   "language": "python",
   "name": "python3"
  },
  "language_info": {
   "codemirror_mode": {
    "name": "ipython",
    "version": 3
   },
   "file_extension": ".py",
   "mimetype": "text/x-python",
   "name": "python",
   "nbconvert_exporter": "python",
   "pygments_lexer": "ipython3",
   "version": "3.10.9"
  }
 },
 "nbformat": 4,
 "nbformat_minor": 2
}
