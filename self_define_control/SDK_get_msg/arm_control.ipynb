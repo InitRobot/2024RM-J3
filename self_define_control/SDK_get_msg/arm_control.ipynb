{
 "cells": [
  {
   "cell_type": "code",
   "execution_count": 1,
   "metadata": {},
   "outputs": [],
   "source": [
    "import SDK_\n",
    "import Message_Delivery\n",
    "import MSG_Solve\n",
    "import Chassis_Solve\n",
    "import Chassis_Move\n",
    "import time\n",
    "import matplotlib.pyplot as plt"
   ]
  },
  {
   "cell_type": "code",
   "execution_count": 15,
   "metadata": {},
   "outputs": [
    {
     "name": "stdout",
     "output_type": "stream",
     "text": [
      "IN: pwm value 1 12.5;\n",
      "OUT: fail;\n"
     ]
    },
    {
     "data": {
      "text/plain": [
       "'fail;'"
      ]
     },
     "execution_count": 15,
     "metadata": {},
     "output_type": "execute_result"
    }
   ],
   "source": [
    "SDK_.connect_enter_SDK(printing=False)\n",
    "SDK_.IN_OUT(\"pwm value 1 12.5;\",printing=True)"
   ]
  },
  {
   "cell_type": "code",
   "execution_count": 13,
   "metadata": {},
   "outputs": [
    {
     "name": "stdout",
     "output_type": "stream",
     "text": [
      "IN: pwm value 4 10;\n",
      "OUT: fail;\n"
     ]
    },
    {
     "data": {
      "text/plain": [
       "'fail;'"
      ]
     },
     "execution_count": 13,
     "metadata": {},
     "output_type": "execute_result"
    }
   ],
   "source": [
    "SDK_.connect_enter_SDK(printing=False)\n",
    "SDK_.IN_OUT(\"pwm value 4 10;\",printing=True)"
   ]
  },
  {
   "cell_type": "code",
   "execution_count": null,
   "metadata": {},
   "outputs": [],
   "source": []
  }
 ],
 "metadata": {
  "kernelspec": {
   "display_name": "base",
   "language": "python",
   "name": "python3"
  },
  "language_info": {
   "codemirror_mode": {
    "name": "ipython",
    "version": 3
   },
   "file_extension": ".py",
   "mimetype": "text/x-python",
   "name": "python",
   "nbconvert_exporter": "python",
   "pygments_lexer": "ipython3",
   "version": "3.10.9"
  }
 },
 "nbformat": 4,
 "nbformat_minor": 2
}
